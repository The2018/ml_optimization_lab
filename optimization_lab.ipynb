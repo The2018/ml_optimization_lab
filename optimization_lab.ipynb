{
 "cells": [
  {
   "cell_type": "markdown",
   "metadata": {},
   "source": [
    "## 1. Optimizations\n",
    "Go over the implementation of the optimization algorithms discussed in the lecture, and run all the corresponding code cells."
   ]
  },
  {
   "cell_type": "code",
   "execution_count": 139,
   "metadata": {},
   "outputs": [],
   "source": [
    "import random\n",
    "import math"
   ]
  },
  {
   "cell_type": "markdown",
   "metadata": {},
   "source": [
    "### 1.1. Random optimization\n",
    "Optimizes overall fitness score by creating $n$ random guesses and selecting the best."
   ]
  },
  {
   "cell_type": "code",
   "execution_count": 140,
   "metadata": {},
   "outputs": [],
   "source": [
    "def random_optimize(domain,  fitness_function, n=9999):    \n",
    "    best_score = None\n",
    "    best_sol = None\n",
    "    for iter in range(n):\n",
    "        # Create a random solution\n",
    "        # domain[i] represents a range of all valid choices for position i\n",
    "        r=[random.choice(domain[i])\n",
    "                      for i in range(len(domain))]\n",
    "    \n",
    "        # Get the cost\n",
    "        cost=fitness_function(r)\n",
    "    \n",
    "        # Compare it to the best one so far\n",
    "        if best_score is None or cost < best_score:\n",
    "            best_score = cost\n",
    "            best_sol = r\n",
    "\n",
    "    return (best_sol, best_score, n)"
   ]
  },
  {
   "cell_type": "markdown",
   "metadata": {},
   "source": [
    "### 1.2. Hill climbing optimization\n",
    "Starts from a random point in solution space, and moves into a direction of a neighboring solution with the better score, until no more such solutions can be found. Often finds a local minimum instead of the global one.\n",
    "\n",
    "For each position in the solution, the *domain* contains a valid min and max. This prevents from considering invalid solutions."
   ]
  },
  {
   "cell_type": "code",
   "execution_count": 141,
   "metadata": {},
   "outputs": [],
   "source": [
    "def hillclimb_optimize(domain, fitness_function):\n",
    "    # Create an initial random solution\n",
    "    best_sol=[random.choice(domain[i])\n",
    "              for i in range(len(domain))]\n",
    "\n",
    "    # Main loop: until no better neighbors\n",
    "    iterations = 0\n",
    "    while 1:\n",
    "        best_score=fitness_function(best_sol)        \n",
    "        current_score = best_score\n",
    "        \n",
    "        iterations += 1\n",
    "        \n",
    "        # Create list of all neighboring solutions\n",
    "        neighbors=[]\n",
    "\n",
    "        for j in range(len(domain)):\n",
    "            # One away in each direction\n",
    "            if best_sol[j]>domain[j][0]: \n",
    "                neighbors.append(best_sol[0:j]+[best_sol[j]-1]+best_sol[j+1:])\n",
    "            if best_sol[j]< domain[j][1] - 1:\n",
    "                neighbors.append(best_sol[0:j]+[best_sol[j]+1]+best_sol[j+1:])\n",
    "\n",
    "        # See what the best solution amongst the neighbors is        \n",
    "        for j in range(len(neighbors)):\n",
    "            cost = fitness_function(neighbors[j])\n",
    "            if cost < best_score:\n",
    "                best_score = cost\n",
    "                best_sol = neighbors[j]\n",
    "\n",
    "        # If there's no improvement, then we've reached the local min\n",
    "        if best_score == current_score:\n",
    "            break\n",
    "            \n",
    "        if best_score == 0:\n",
    "            break\n",
    "\n",
    "    return (best_sol, best_score, iterations)"
   ]
  },
  {
   "cell_type": "markdown",
   "metadata": {},
   "source": [
    "### 1.3. Simulated annealing optimization\n",
    "We start with a random point in the search space as before. We generate a random neighbor. If the score of the neighbor is better than the current score - we replace current solution with it. If the score is worse - we still can accept the solution, depending on the phase of the algorithm, reflected in the decreasing value of temperature $T$. In the beginning we set the temperature high, and the probability of selecting worse solution is higher. This allows to better explore the search space and get out of the local minimum. The temperature gradually decreases, and so at the end we do not accept worse solutions.\n",
    "\n",
    "The criterion of accepting ''bad'' solutions is given by the following formula:\n",
    "\n",
    "$p=e^{\\frac{-\\Delta F}{T}}>R(0,1)$\n",
    "\n",
    "where $T$ is the current temperature, $R(0,1)$ is a random number between $0$ and $1$, and $\\Delta F$ is the difference between the fitness score of new solution and the old solution."
   ]
  },
  {
   "cell_type": "code",
   "execution_count": 142,
   "metadata": {},
   "outputs": [],
   "source": [
    "def annealing_optimize(domain, fitness_function,\n",
    "                      T=10000.0,cool=0.95,step=1):\n",
    "    # Create an initial random solution\n",
    "    best_sol =[random.choice(domain[i])\n",
    "              for i in range(len(domain))]\n",
    "    \n",
    "    iterations = 0\n",
    "    while T > 0.1:\n",
    "        iterations += 1\n",
    "        \n",
    "        # Choose one of the indices at random\n",
    "        i = random.randint(0,len(domain)-1) #randint selects INCLUDING the max\n",
    "\n",
    "        # Choose a random direction to change it\n",
    "        dir = random.randint(-step,step)\n",
    "\n",
    "        # Create a new solution with one of the values changed into a random direction\n",
    "        sol_b = best_sol[:]\n",
    "        sol_b [i] += dir\n",
    "        \n",
    "        # check that it is within allowed domain\n",
    "        # if sol_b[i] smaller than the min allowed value\n",
    "        # replace it with the smallest from the domain\n",
    "        if sol_b [i] < domain[i][0]:\n",
    "            sol_b [i] = domain[i][0]\n",
    "        # if sol_b[i] larger than the max allowed value\n",
    "        # replace it with the largest from the domain\n",
    "        elif sol_b [i] > domain[i][1]-1:\n",
    "            sol_b [i] = domain[i][1] - 1\n",
    "\n",
    "        # Calculate the cost of the current_best solution\n",
    "        best_score = fitness_function(best_sol)\n",
    "        \n",
    "        if best_score == 0:\n",
    "            break\n",
    "            \n",
    "        # Calculate score of a new solution   \n",
    "        b_score = fitness_function(sol_b)\n",
    "        \n",
    "        # If T is really large, exp -> 0, and p -> 1\n",
    "        # If T is small, exp is defined by difference between new and old score\n",
    "        # If T is very small, exp -> infinity, p -> 0 \n",
    "        exp = -(b_score - best_score)/T        \n",
    "        p = pow (math.e, exp)\n",
    "\n",
    "        # Is it better, \n",
    "        # or does it make the probability cutoff?\n",
    "        if b_score < best_score or p > random.random():\n",
    "            best_sol = sol_b        \n",
    "        \n",
    "        # Decrease the temperature\n",
    "        T = T*cool\n",
    "\n",
    "    return (best_sol, fitness_function(best_sol), iterations)"
   ]
  },
  {
   "cell_type": "markdown",
   "metadata": {},
   "source": [
    "### 1.4. Genetic algorithm optimization\n",
    "The algorithm starts with a population of $popsize$ random individuals, and in each generation selects the $elite\\_ratio$ percents with the best fitness score (elite). It continues to the next generation with this group. In order to enrich the genetic pool in the current generation, the algorithm adds random mutations with probability $mut\\_prob$ and mating (crossover) between the members of the elite group. After predefined number of generations $n$, the algorithm returns the individual with the best fitness score. "
   ]
  },
  {
   "cell_type": "code",
   "execution_count": 143,
   "metadata": {},
   "outputs": [],
   "source": [
    "def genetic_optimize (domain, fitness_function,\n",
    "                    popsize=100, step=1,\n",
    "                    mut_prob=0.2, elite_ratio=0.2, n=100):\n",
    "    # Mutation Operation\n",
    "    def mutate(vec):\n",
    "        # choose random index in the solution\n",
    "        i=random.randint(0,len(domain)-1)\n",
    "        # Rooll the dice and with equal probability\n",
    "        # either increase or decrease value at i by step\n",
    "        if random.random()<0.5 and (vec[i] - step) >= domain[i][0]:\n",
    "            return vec[0:i]+[vec[i]-step]+vec[i+1:]\n",
    "        elif (vec[i]+step) < domain[i][1]:\n",
    "            return vec[0:i]+[vec[i]+step]+vec[i+1:]\n",
    "        return vec\n",
    "\n",
    "    # Crossover Operation\n",
    "    def crossover(r1,r2):\n",
    "        i=random.randint(0,len(domain)-1)\n",
    "        return r1[0:i]+r2[i:]\n",
    "\n",
    "    # Build the initial population of random solutions\n",
    "    pop=[]\n",
    "    for i in range(popsize):\n",
    "        vec = [random.choice(domain[i])\n",
    "               for i in range(len(domain))]\n",
    "        pop.append(vec)\n",
    "\n",
    "    # How many winners from each generation?\n",
    "    topelite=int(elite_ratio*popsize)\n",
    "\n",
    "    # Main loop\n",
    "    generations = 0\n",
    "    for i in range(n):\n",
    "        # This is the list of all solutions in the population together with their fitness scores\n",
    "        scores = [(fitness_function(sol_vect), sol_vect) for sol_vect in pop]\n",
    "        \n",
    "        # We sort this list by score\n",
    "        scores.sort()\n",
    "\n",
    "        # See what is current top best score\n",
    "        if scores[0][0] == 0:\n",
    "            break\n",
    "        \n",
    "        generations += 1\n",
    "        \n",
    "        # this is a list of just the solutions extracted from the sorted by score\n",
    "        ranked_solutions = [sol_vect for (cost, sol_vect) in scores]\n",
    "\n",
    "        # Build next gen population\n",
    "        # Start with the pure winners\n",
    "        pop = ranked_solutions[0:topelite]\n",
    "\n",
    "        # Add mutated and bred forms of the winners\n",
    "        while len(pop) < popsize:\n",
    "            if random.random() < mut_prob:\n",
    "                # Mutation. Select random individual from elite group and mutate\n",
    "                c = random.randint(0,topelite-1)\n",
    "                pop.append(mutate(ranked_solutions[c]))\n",
    "            else:\n",
    "                # Crossover. Select 2 random individuals from elite group and cross\n",
    "                c1 = random.randint(0, topelite-1)\n",
    "                c2 = random.randint(0, topelite-1)\n",
    "                pop.append(crossover(ranked_solutions[c1],ranked_solutions[c2]))\n",
    "                \n",
    "    # After n generations return the top scored solution from the sorted list of scores\n",
    "    return (scores[0][1], scores[0][0], generations) "
   ]
  },
  {
   "cell_type": "markdown",
   "metadata": {},
   "source": [
    "## 2. Group schedule optimization\n",
    "We want to optimize the group schedule for 6 family memebers, which come from different cities to the meetup in New York. "
   ]
  },
  {
   "cell_type": "code",
   "execution_count": 144,
   "metadata": {},
   "outputs": [],
   "source": [
    "people = [  ('Seymour', 'BOS'),\n",
    "            ('Franny', 'DAL'),\n",
    "            ('Zooey', 'CAK'),\n",
    "            ('Walt', 'MIA'),\n",
    "            ('Buddy', 'ORD'),\n",
    "            ('Les', 'OMA')]\n",
    "# LaGuardia airport code - New York\n",
    "destination = 'LGA'"
   ]
  },
  {
   "cell_type": "markdown",
   "metadata": {},
   "source": [
    "### 2.1. Available flights\n",
    "There are many flights per day to LGA from all these locations. Some sample flights are given in file [flights.txt](flights.txt). Each line in this file contains origin, destination, departure time, arrival time and ticket price in a comma-separated format.\n",
    "\n",
    "To have an efficient access to the information in this file, we load the data into a dictionary, where the key is a tuple (origin,destination) and the value is the list of all different flights and their details for a given key."
   ]
  },
  {
   "cell_type": "code",
   "execution_count": 145,
   "metadata": {},
   "outputs": [],
   "source": [
    "flights = {}\n",
    "# Create list of flights for each (origin,destination)\n",
    "f = open('flights.txt')\n",
    "for line in f:\n",
    "    origin, dest, depart, arrive, price = line.strip().split(',')\n",
    "    # If no such key (origin,dest) - create it and init empty list\n",
    "    flights.setdefault((origin, dest), [])\n",
    "\n",
    "    # Add details to the list of possible flights\n",
    "    flights[(origin, dest)].append((depart, arrive, int(price)))"
   ]
  },
  {
   "cell_type": "code",
   "execution_count": 146,
   "metadata": {},
   "outputs": [
    {
     "data": {
      "text/plain": [
       "1223"
      ]
     },
     "execution_count": 146,
     "metadata": {},
     "output_type": "execute_result"
    }
   ],
   "source": [
    "import time\n",
    "\n",
    "# Useful function which converts 'hour:min' into minutes\n",
    "def getminutes(t):\n",
    "    x = time.strptime(t,'%H:%M')\n",
    "    return x[3]*60+x[4]\n",
    "\n",
    "getminutes(\"20:23\")"
   ]
  },
  {
   "cell_type": "markdown",
   "metadata": {},
   "source": [
    "### 2.2. Representing solutions\n",
    "Our sample of flight data contains 8 distinct flights for each combination of (origin,destination). The challenge is: for each family memebr to select one inbound flight (from their hometown to NYC) and one outbound flight (from NYC to their hometown) such that the entire schedule has an overall minimum possible cost.\n",
    "\n",
    "To find solution using optimization algorithms, we need to represent each possible solution so it is easy to process and modify it in code. One posible representation is a list containing an index (0-7) of inbound flight and an index (0-7) of outbound flight for each family member.\n",
    "\n",
    "For example list `t=[1,4,3,2,7,3,6,3,2,4,5,3]` encodes the solution in which Seymour (person 0) takes the second flight of the day from Boston to NYC `(t[0]=1)` and the fifth flight of the day from NYC to Boston `(t[1]=4)`.\n",
    "\n",
    "This representation is good for the algorithm, but we need to be able to interpret the final solution by humans.  "
   ]
  },
  {
   "cell_type": "code",
   "execution_count": 147,
   "metadata": {},
   "outputs": [
    {
     "name": "stdout",
     "output_type": "stream",
     "text": [
      "   Seymour       BOS  8:04-10:11 $ 95 12:08-14:05 $142\n",
      "    Franny       DAL 12:19-15:25 $342 10:51-14:16 $256\n",
      "     Zooey       CAK 10:53-13:36 $189  9:58-12:56 $249\n",
      "      Walt       MIA  9:15-12:29 $225 16:50-19:26 $304\n",
      "     Buddy       ORD 16:43-19:00 $246 10:33-13:11 $132\n",
      "       Les       OMA 11:08-13:07 $175 15:07-17:21 $129\n"
     ]
    }
   ],
   "source": [
    "# Displays the resulting schedule found by an algorithm\n",
    "def print_schedule(r):\n",
    "    for d in range(len(r)//2):\n",
    "        name = people[d][0]\n",
    "        origin = people[d][1]\n",
    "        out = flights[(origin,destination)][int(r[d])]\n",
    "        ret = flights[(destination,origin)][int(r[d+1])]\n",
    "        print('%10s%10s %5s-%5s $%3s %5s-%5s $%3s' % (name, origin,\n",
    "                                            out[0], out[1], out[2],\n",
    "                                            ret[0], ret[1], ret[2]))\n",
    "        \n",
    "s = [1,4,3,2,7,3,6,3,2,4,5,3]\n",
    "print_schedule(s)"
   ]
  },
  {
   "cell_type": "markdown",
   "metadata": {},
   "source": [
    "We also need to define a domain for each flight index. Because each (origin,destination) has precisely 8 possible flights, the min flight index is 0 and the max is 7. "
   ]
  },
  {
   "cell_type": "code",
   "execution_count": 148,
   "metadata": {},
   "outputs": [],
   "source": [
    "domain = [(0, 8)] * (len(people) * 2)"
   ]
  },
  {
   "cell_type": "markdown",
   "metadata": {},
   "source": [
    "### 2.3. Scoring solutions\n",
    "Deciding on how to score each solution is the most non-trivial task in the design of optimization algorithms. "
   ]
  },
  {
   "cell_type": "code",
   "execution_count": 149,
   "metadata": {},
   "outputs": [],
   "source": [
    "def schedule_cost(sol):\n",
    "    totalprice = 0\n",
    "    latestarrival = 0\n",
    "    earliestdep = 24 * 60\n",
    "\n",
    "    for d in range(len(sol) // 2):\n",
    "        # Get the inbound and outbound flights\n",
    "        origin = people[d][1]\n",
    "        outbound = flights[(origin, destination)][int(sol[d])]\n",
    "        returnf = flights[(destination, origin)][int(sol[d + 1])]\n",
    "\n",
    "        # Total price is the ticket price \n",
    "        # of all outbound and return flights\n",
    "        totalprice += outbound[2]\n",
    "        totalprice += returnf[2]\n",
    "\n",
    "        # Track the latest arrival and earliest departure\n",
    "        if latestarrival < getminutes(outbound[1]):\n",
    "            latestarrival = getminutes(outbound[1])\n",
    "        if earliestdep > getminutes(returnf[0]):\n",
    "            earliestdep = getminutes(returnf[0])\n",
    "\n",
    "    # Family memebrs want to share transportation to/from the airport\n",
    "    # Every person must wait at the airport until the latest person arrives.\n",
    "    # They also must arrive at the same time and wait for their flights.\n",
    "    totalwait = 0\n",
    "    for d in range(len(sol) // 2):\n",
    "        origin = people[d][1]\n",
    "        outbound = flights[(origin, destination)][int(sol[d])]\n",
    "        returnf = flights[(destination, origin)][int(sol[d + 1])]\n",
    "        totalwait += latestarrival - getminutes(outbound[1])\n",
    "        totalwait += getminutes(returnf[0]) - earliestdep\n",
    "\n",
    "    # Does this solution require an extra day of car rental? \n",
    "    # That will be additional $50!\n",
    "    if latestarrival > earliestdep:\n",
    "        totalprice += 50\n",
    "\n",
    "    return totalprice + totalwait"
   ]
  },
  {
   "cell_type": "code",
   "execution_count": 150,
   "metadata": {},
   "outputs": [
    {
     "data": {
      "text/plain": [
       "5285"
      ]
     },
     "execution_count": 150,
     "metadata": {},
     "output_type": "execute_result"
    }
   ],
   "source": [
    "schedule_cost(s)"
   ]
  },
  {
   "cell_type": "markdown",
   "metadata": {},
   "source": [
    "### 2.4. Optimizing\n",
    "#### Random optimization\n",
    "Can we improve cost by creating 10000 random schedules and selecting the best?"
   ]
  },
  {
   "cell_type": "code",
   "execution_count": 151,
   "metadata": {},
   "outputs": [
    {
     "name": "stdout",
     "output_type": "stream",
     "text": [
      "\n",
      "-----------Random optimize----------\n",
      "Total cost for 10000 trials is:3341\n",
      "\n",
      "   Seymour       BOS 18:34-19:36 $136 18:24-20:49 $124\n",
      "    Franny       DAL 18:26-21:29 $464 18:44-22:42 $351\n",
      "     Zooey       CAK 18:35-20:28 $204 18:17-21:04 $259\n",
      "      Walt       MIA 18:23-21:35 $134 18:07-21:30 $355\n",
      "     Buddy       ORD 18:48-21:45 $246 18:33-20:22 $143\n",
      "       Les       OMA 18:12-20:17 $242 18:25-20:34 $205\n"
     ]
    }
   ],
   "source": [
    "sol, sol_cost, n = random_optimize(domain,  schedule_cost, 10000)\n",
    "print(\"\\n-----------Random optimize----------\")\n",
    "print(\"Total cost for {} trials is:{}\\n\".format(n, sol_cost))\n",
    "print_schedule(sol)"
   ]
  },
  {
   "cell_type": "markdown",
   "metadata": {},
   "source": [
    "#### Hill climbing\n",
    "Can we get a more optimized schedule?"
   ]
  },
  {
   "cell_type": "code",
   "execution_count": 152,
   "metadata": {},
   "outputs": [
    {
     "name": "stdout",
     "output_type": "stream",
     "text": [
      "\n",
      "-----------Hill climb optimize----------\n",
      "Total cost after 21 downhill steps is:3655\n",
      "\n",
      "   Seymour       BOS 15:27-17:18 $151 10:33-12:03 $ 74\n",
      "    Franny       DAL 10:30-14:57 $290 10:51-14:16 $256\n",
      "     Zooey       CAK 10:53-13:36 $189 13:37-15:33 $142\n",
      "      Walt       MIA 14:01-17:24 $338 12:37-15:05 $170\n",
      "     Buddy       ORD 12:44-14:17 $134 10:33-13:11 $132\n",
      "       Les       OMA 11:08-13:07 $175 15:07-17:21 $129\n"
     ]
    }
   ],
   "source": [
    "sol, sol_cost, n = hillclimb_optimize(domain, schedule_cost)\n",
    "print(\"\\n-----------Hill climb optimize----------\")\n",
    "print(\"Total cost after {} downhill steps is:{}\\n\".format(n, sol_cost))\n",
    "print_schedule(sol)"
   ]
  },
  {
   "cell_type": "markdown",
   "metadata": {},
   "source": [
    "#### Simulated annealing\n",
    "Can we get out of the local minimum trap?"
   ]
  },
  {
   "cell_type": "code",
   "execution_count": 153,
   "metadata": {},
   "outputs": [
    {
     "name": "stdout",
     "output_type": "stream",
     "text": [
      "\n",
      "-----------Annealing optimize----------\n",
      "Total cost after 11508 cooling steps is:2804\n",
      "\n",
      "   Seymour       BOS  8:04-10:11 $ 95  6:39- 8:09 $ 86\n",
      "    Franny       DAL  6:12-10:22 $230  7:57-11:15 $347\n",
      "     Zooey       CAK  8:27-10:45 $139  8:19-11:16 $122\n",
      "      Walt       MIA  7:34- 9:40 $324  8:23-11:07 $143\n",
      "     Buddy       ORD  8:25-10:34 $157  7:50-10:08 $164\n",
      "       Les       OMA  7:39-10:24 $219  8:04-10:59 $136\n"
     ]
    }
   ],
   "source": [
    "sol, sol_cost, n = annealing_optimize(domain, schedule_cost,cool=0.999)\n",
    "print(\"\\n-----------Annealing optimize----------\")\n",
    "print(\"Total cost after {} cooling steps is:{}\\n\".format(n, sol_cost))\n",
    "print_schedule(sol)"
   ]
  },
  {
   "cell_type": "markdown",
   "metadata": {},
   "source": [
    "#### Genetic algorithm\n",
    "Can biology help?"
   ]
  },
  {
   "cell_type": "code",
   "execution_count": 154,
   "metadata": {},
   "outputs": [
    {
     "name": "stdout",
     "output_type": "stream",
     "text": [
      "\n",
      "-----------Genetic algorithme----------\n",
      "Total cost after 100 generations is:2804\n",
      "\n",
      "   Seymour       BOS  8:04-10:11 $ 95  6:39- 8:09 $ 86\n",
      "    Franny       DAL  6:12-10:22 $230  7:57-11:15 $347\n",
      "     Zooey       CAK  8:27-10:45 $139  8:19-11:16 $122\n",
      "      Walt       MIA  7:34- 9:40 $324  8:23-11:07 $143\n",
      "     Buddy       ORD  8:25-10:34 $157  7:50-10:08 $164\n",
      "       Les       OMA  7:39-10:24 $219  8:04-10:59 $136\n"
     ]
    }
   ],
   "source": [
    "sol, sol_cost, n = genetic_optimize(domain, schedule_cost,\n",
    "                                popsize=2048, mut_prob=0.25,\n",
    "                                elite_ratio=0.1, n=100)\n",
    "print(\"\\n-----------Genetic algorithme----------\")\n",
    "print(\"Total cost after {} generations is:{}\\n\".format(n, sol_cost))\n",
    "print_schedule(sol)"
   ]
  },
  {
   "cell_type": "markdown",
   "metadata": {},
   "source": [
    "## 3. Dorm assignment optimization [Your turn!]\n",
    "### 3.1. Problem setup\n",
    "There are 5 dorms, each with 2 spaces available and 10 students\n",
    "vying for spots. Each student has first and second choices."
   ]
  },
  {
   "cell_type": "code",
   "execution_count": 155,
   "metadata": {},
   "outputs": [],
   "source": [
    "# The dorms, each of which has two available spaces\n",
    "dorms=['Dolliver','Crosby','Hill','Carriage','MODs']\n",
    "\n",
    "# People, along with their first and second choices\n",
    "prefs=[('Daniel', ('Carriage', 'Hill')),\n",
    "       ('Steven', ('Dolliver', 'MODs')),\n",
    "       ('Akarsh', ('Crosby', 'Dolliver')),\n",
    "       ('Kelvin', ('Dolliver', 'MODs')),\n",
    "       ('Betty', ('Crosby', 'Carriage')),\n",
    "       ('Jeff', ('Hill', 'MODs')),\n",
    "       ('Cat', ('MODs', 'Crosby')),\n",
    "       ('Michael', ('Carriage', 'Hill')),\n",
    "       ('Gary', ('Carriage', 'Hill')),\n",
    "       ('James', ('Hill', 'Crosby'))]"
   ]
  },
  {
   "cell_type": "markdown",
   "metadata": {},
   "source": [
    "It is clear that every student cannot have their top choice: for example, there are only 2 free spots in Carriage, but 3 students have it as their top choice. We will apply an optimization algorithm to assign students to dorms such that the preferences are satisfied as much as possible for the entire group of students."
   ]
  },
  {
   "cell_type": "markdown",
   "metadata": {},
   "source": [
    "### 3.2. Representing solutions\n",
    "The representation for solutions is a bit trickier for this problem than for the flight\n",
    "problem. You could, in theory, create a list of numbers, one for each student, where\n",
    "each number represents the dorm in which you’ve put the student. \n",
    "\n",
    "The problem is that this representation doesn’t constrain the solution to only two students in each\n",
    "dorm. A list of all zeros would indicate that everyone had been placed in Dolliver, which\n",
    "isn’t a real solution at all.\n",
    "\n",
    "You need to find a way to represent solutions so that\n",
    "every one is valid. A valid solution is not necessarily a good solution; it just means\n",
    "that there are exactly two students assigned to each dorm. \n",
    "\n",
    "Hint: One way to do this is to\n",
    "think of every dorm as having two slots, so that in the example there are ten slots in\n",
    "total. Each student, in order, is assigned to one of the open slots—the first person\n",
    "can be placed in any one of the ten, the second person can be placed in any of the\n",
    "nine remaining slots, and so on."
   ]
  },
  {
   "cell_type": "code",
   "execution_count": 156,
   "metadata": {},
   "outputs": [
    {
     "name": "stdout",
     "output_type": "stream",
     "text": [
      "[0, 0, 1, 1, 2, 2, 3, 3, 4, 4]\n"
     ]
    }
   ],
   "source": [
    "# Example - list of all possible slots\n",
    "slots=[]\n",
    "# Create two slots for each dorm\n",
    "for i in range(len(dorms)): slots+=[i,i]\n",
    "    \n",
    "# This corresponds to 2 slots in Dolliver (0,0), 2 slots in Crosby (1,1) etc.\n",
    "print(slots)"
   ]
  },
  {
   "cell_type": "markdown",
   "metadata": {},
   "source": [
    "Each student is assigned one slot from the list of slots, and then this slot is removed. Thus a solution contains a list of 10 entries (one for each student) and at each list position there is an index in the <b>remaining</b> list of slots -- <b>after the slot at the corresponding position has been removed</b>. To understand how it works, we show the `print_solution` function and the sample solution."
   ]
  },
  {
   "cell_type": "code",
   "execution_count": 157,
   "metadata": {},
   "outputs": [],
   "source": [
    "def print_solution(sol):\n",
    "    slots=[]\n",
    "    # Create two slots for each dorm\n",
    "    for i in range(len(dorms)):\n",
    "        slots+=[i,i]\n",
    "\n",
    "    # Loop over each students assignment\n",
    "    for i in range(len(sol)):\n",
    "        x=int(sol[i])\n",
    "\n",
    "        # Choose the slot from the remaining ones\n",
    "        dorm=dorms[slots[x]]\n",
    "        # Show the student and assigned dorm\n",
    "        print('%10s %10s %25s' % (prefs[i][0], dorm, prefs[i][1]))\n",
    "        #print (prefs[i][0],\"got:\", dorm, \" - prefs:\", prefs[i][1])\n",
    "\n",
    "        # Remove this slot\n",
    "        del slots[x]   "
   ]
  },
  {
   "cell_type": "code",
   "execution_count": 158,
   "metadata": {},
   "outputs": [
    {
     "name": "stdout",
     "output_type": "stream",
     "text": [
      "    Daniel   Dolliver      ('Carriage', 'Hill')\n",
      "    Steven   Dolliver      ('Dolliver', 'MODs')\n",
      "    Akarsh     Crosby    ('Crosby', 'Dolliver')\n",
      "    Kelvin     Crosby      ('Dolliver', 'MODs')\n",
      "     Betty       Hill    ('Crosby', 'Carriage')\n",
      "      Jeff       Hill          ('Hill', 'MODs')\n",
      "       Cat   Carriage        ('MODs', 'Crosby')\n",
      "   Michael   Carriage      ('Carriage', 'Hill')\n",
      "      Gary       MODs      ('Carriage', 'Hill')\n",
      "     James       MODs        ('Hill', 'Crosby')\n"
     ]
    }
   ],
   "source": [
    "print_solution([0,0,0,0,0,0,0,0,0,0])"
   ]
  },
  {
   "cell_type": "markdown",
   "metadata": {},
   "source": [
    "<div style=\"background-color:yellow;\">    \n",
    "    <h3>Task 1. Define domain for each index in the solution</h3>\n",
    "The first position in the solution corresponds to the slot index assigned to the first student (Daniel). Daniel can have any of the 10 indices, so the min is 0, the max is 9. After we remove one slot from the slots list - there are only 9 elements left. Thus the second student can have any index from 0 to 9, etc.    \n",
    " </div> "
   ]
  },
  {
   "cell_type": "code",
   "execution_count": 159,
   "metadata": {},
   "outputs": [
    {
     "name": "stdout",
     "output_type": "stream",
     "text": [
      "[(0, 9), (0, 8), (0, 7), (0, 6), (0, 5), (0, 4), (0, 3), (0, 2), (0, 1), (0, 0)]\n"
     ]
    }
   ],
   "source": [
    "# Initialize the domain. \n",
    "\n",
    "domain = []\n",
    "for i in range(len(slots)):\n",
    "    domain.append((0,len(slots)-i-1))\n",
    "print(domain)"
   ]
  },
  {
   "cell_type": "markdown",
   "metadata": {},
   "source": [
    "<div style=\"background-color:yellow;\">    \n",
    "    <h3>Task 2. Implement the cost function</h3>\n",
    "    <ul>\n",
    "        <li>For each student find which dorm they are assigned. If this dorm is their top choice, add 0 to the overall solution cost.</li>\n",
    "        <li>If it is their second choice - add 1 to the overall cost.</li>\n",
    "        <li>If it is not on their list of prefences - add 3 to the cost (far from perfect).</li>\n",
    "    </ul>\n",
    "    <b>DO NOT FORGET TO REMOVE THE CORRESPONDING ENTRY FROM THE SLOTS AFTER IT HAS BEEN TAKEN.</b>\n",
    "</div>"
   ]
  },
  {
   "cell_type": "code",
   "execution_count": 160,
   "metadata": {},
   "outputs": [
    {
     "data": {
      "text/plain": [
       "18"
      ]
     },
     "execution_count": 160,
     "metadata": {},
     "output_type": "execute_result"
    }
   ],
   "source": [
    "# cost function\n",
    "\n",
    "def dorm_cost(sol):\n",
    "    cost=0\n",
    "    slots = []\n",
    "    for i in range(len(dorms)):\n",
    "        slots+=[i,i]\n",
    "        \n",
    "    for i in range(len(sol)):\n",
    "        x = int(sol[i])\n",
    "        dorm = dorms[slots[x]]\n",
    "        \n",
    "        s_pref = prefs[i][1]\n",
    "        if dorm == s_pref[1]:\n",
    "            cost += 1\n",
    "        elif dorm != s_pref[0]:\n",
    "            cost += 3\n",
    "            \n",
    "        del slots[x]\n",
    "    \n",
    "    return cost\n",
    "\n",
    "dorm_cost([0,0,0,0,0,0,0,0,0,0])"
   ]
  },
  {
   "cell_type": "markdown",
   "metadata": {},
   "source": [
    "<div style=\"background-color:yellow;\">    \n",
    "    <h3>Task 3. Run optimizations</h3>\n",
    "Run the optimization algorithms several times in the cells below. Report the parameters and the best results and compare them in the report. The report can be added at the end of the lab in a separate markdown cell.  \n",
    " </div> "
   ]
  },
  {
   "cell_type": "markdown",
   "metadata": {},
   "source": [
    "#### Random optimize"
   ]
  },
  {
   "cell_type": "code",
   "execution_count": 170,
   "metadata": {},
   "outputs": [
    {
     "name": "stdout",
     "output_type": "stream",
     "text": [
      "The best dorm assignment: \n",
      "    Daniel   Dolliver      ('Carriage', 'Hill')\n",
      "    Steven   Dolliver      ('Dolliver', 'MODs')\n",
      "    Akarsh     Crosby    ('Crosby', 'Dolliver')\n",
      "    Kelvin       MODs      ('Dolliver', 'MODs')\n",
      "     Betty     Crosby    ('Crosby', 'Carriage')\n",
      "      Jeff       Hill          ('Hill', 'MODs')\n",
      "       Cat       MODs        ('MODs', 'Crosby')\n",
      "   Michael   Carriage      ('Carriage', 'Hill')\n",
      "      Gary   Carriage      ('Carriage', 'Hill')\n",
      "     James       Hill        ('Hill', 'Crosby')\n",
      "The best solution cost for 10000 trials is 4\n"
     ]
    }
   ],
   "source": [
    "sol, sol_cost, n = random_optimize(domain, dorm_cost, 10000)\n",
    "print(\"The best dorm assignment: \")\n",
    "print_solution(sol)\n",
    "print(\"The best solution cost for {} trials is {}\".format(n, sol_cost))"
   ]
  },
  {
   "cell_type": "markdown",
   "metadata": {},
   "source": [
    "#### Hill climbing"
   ]
  },
  {
   "cell_type": "code",
   "execution_count": 200,
   "metadata": {},
   "outputs": [
    {
     "name": "stdout",
     "output_type": "stream",
     "text": [
      "The best dorm assignment: \n",
      "    Daniel   Dolliver      ('Carriage', 'Hill')\n",
      "    Steven       MODs      ('Dolliver', 'MODs')\n",
      "    Akarsh       MODs    ('Crosby', 'Dolliver')\n",
      "    Kelvin   Dolliver      ('Dolliver', 'MODs')\n",
      "     Betty   Carriage    ('Crosby', 'Carriage')\n",
      "      Jeff       Hill          ('Hill', 'MODs')\n",
      "       Cat     Crosby        ('MODs', 'Crosby')\n",
      "   Michael       Hill      ('Carriage', 'Hill')\n",
      "      Gary   Carriage      ('Carriage', 'Hill')\n",
      "     James     Crosby        ('Hill', 'Crosby')\n",
      "The best solution cost after 5 downhill steps is 11\n"
     ]
    }
   ],
   "source": [
    "sol, sol_cost, n= hillclimb_optimize(domain, dorm_cost)\n",
    "print(\"The best dorm assignment: \")\n",
    "print_solution(sol)\n",
    "print(\"The best solution cost after {} downhill steps is {}\".format(n, sol_cost))"
   ]
  },
  {
   "cell_type": "markdown",
   "metadata": {},
   "source": [
    "#### Simulated annealing"
   ]
  },
  {
   "cell_type": "code",
   "execution_count": 182,
   "metadata": {},
   "outputs": [
    {
     "name": "stdout",
     "output_type": "stream",
     "text": [
      "The best dorm assignment: \n",
      "    Daniel   Carriage      ('Carriage', 'Hill')\n",
      "    Steven   Dolliver      ('Dolliver', 'MODs')\n",
      "    Akarsh   Dolliver    ('Crosby', 'Dolliver')\n",
      "    Kelvin       MODs      ('Dolliver', 'MODs')\n",
      "     Betty     Crosby    ('Crosby', 'Carriage')\n",
      "      Jeff       Hill          ('Hill', 'MODs')\n",
      "       Cat     Crosby        ('MODs', 'Crosby')\n",
      "   Michael   Carriage      ('Carriage', 'Hill')\n",
      "      Gary       Hill      ('Carriage', 'Hill')\n",
      "     James       MODs        ('Hill', 'Crosby')\n",
      "The best solution cost after 11508 cooling steps is 7\n"
     ]
    }
   ],
   "source": [
    "sol, sol_cost, n= annealing_optimize(domain, dorm_cost, cool=0.999)\n",
    "print(\"The best dorm assignment: \")\n",
    "print_solution(sol)\n",
    "print(\"The best solution cost after {} cooling steps is {}\".format(n, sol_cost))"
   ]
  },
  {
   "cell_type": "markdown",
   "metadata": {},
   "source": [
    "#### Genetic algorithm"
   ]
  },
  {
   "cell_type": "code",
   "execution_count": 260,
   "metadata": {},
   "outputs": [
    {
     "name": "stdout",
     "output_type": "stream",
     "text": [
      "The best dorm assignment: \n",
      "    Daniel   Carriage      ('Carriage', 'Hill')\n",
      "    Steven   Dolliver      ('Dolliver', 'MODs')\n",
      "    Akarsh     Crosby    ('Crosby', 'Dolliver')\n",
      "    Kelvin   Dolliver      ('Dolliver', 'MODs')\n",
      "     Betty     Crosby    ('Crosby', 'Carriage')\n",
      "      Jeff       Hill          ('Hill', 'MODs')\n",
      "       Cat       MODs        ('MODs', 'Crosby')\n",
      "   Michael   Carriage      ('Carriage', 'Hill')\n",
      "      Gary       MODs      ('Carriage', 'Hill')\n",
      "     James       Hill        ('Hill', 'Crosby')\n",
      "The best solution cost after 20 generation is 3\n"
     ]
    }
   ],
   "source": [
    "sol, sol_cost, n = genetic_optimize(domain, dorm_cost, popsize=200, mut_prob=0.25,\n",
    "                                elite_ratio=0.1, n=20)\n",
    "print(\"The best dorm assignment: \")\n",
    "print_solution(sol)\n",
    "print(\"The best solution cost after {} generation is {}\".format(n, sol_cost))"
   ]
  },
  {
   "cell_type": "markdown",
   "metadata": {},
   "source": [
    "#### Result report"
   ]
  },
  {
   "cell_type": "markdown",
   "metadata": {},
   "source": [
    "four algorithm comparison"
   ]
  },
  {
   "cell_type": "markdown",
   "metadata": {},
   "source": [
    "|algorithm | solution cost | number of steps |\n",
    "| --- | --- | --- |\n",
    "|Random optimize| 4 | 10000 |\n",
    "|Hill climbing| 12 | 4 |\n",
    "|Simulated Annealing| 7 | 11508 |\n",
    "|Genetic algorithm| 3 | 100 |"
   ]
  },
  {
   "cell_type": "markdown",
   "metadata": {},
   "source": [
    "generic algorithm performance"
   ]
  },
  {
   "cell_type": "code",
   "execution_count": 238,
   "metadata": {},
   "outputs": [
    {
     "data": {
      "text/plain": [
       "Text(0, 0.5, 'Solution cost')"
      ]
     },
     "execution_count": 238,
     "metadata": {},
     "output_type": "execute_result"
    },
    {
     "data": {
      "image/png": "[encoded data removed]",
      "text/plain": [
       "<Figure size 432x288 with 1 Axes>"
      ]
     },
     "metadata": {
      "needs_background": "light"
     },
     "output_type": "display_data"
    }
   ],
   "source": [
    "import matplotlib.pyplot as plt\n",
    "%matplotlib inline\n",
    "\n",
    "plt.scatter([2,5,10,20,50], [7,5,4,4,3],\n",
    "            c=\"red\", marker=\"x\")\n",
    "\n",
    "plt.plot([2,5,10,20,50], [7,5,4,4,3], c=\"black\")\n",
    "\n",
    "plt.title(\"Generic algorithm with popsize=100\")\n",
    "plt.xlabel(\"Number of generations\")\n",
    "plt.ylabel(\"Solution cost\")\n"
   ]
  },
  {
   "cell_type": "code",
   "execution_count": 261,
   "metadata": {},
   "outputs": [
    {
     "data": {
      "text/plain": [
       "Text(0, 0.5, 'Solution cost')"
      ]
     },
     "execution_count": 261,
     "metadata": {},
     "output_type": "execute_result"
    },
    {
     "data": {
      "image/png": "[encoded data removed]",
      "text/plain": [
       "<Figure size 432x288 with 1 Axes>"
      ]
     },
     "metadata": {
      "needs_background": "light"
     },
     "output_type": "display_data"
    }
   ],
   "source": [
    "plt.scatter([10,20,50,100,200], [12,9,5,4,3],\n",
    "            c=\"red\", marker=\"x\")\n",
    "\n",
    "plt.plot([10,20,50,100,200], [12,9,5,4,3], c=\"black\")\n",
    "\n",
    "plt.title(\"Generic algorithm with generations=20\")\n",
    "plt.xlabel(\"Population size\")\n",
    "plt.ylabel(\"Solution cost\")"
   ]
  },
  {
   "cell_type": "markdown",
   "metadata": {},
   "source": [
    "<div style=\"background-color:yellow;\">    \n",
    "    <h3>Task 4 [Bonus]. Best solution</h3>\n",
    "The sample input for this problem is very small. The total number of possible solutions is just 10!=3,628,800. Enumerate all possible solutions and find the one with the lowest cost. Was any of the optimization algorithms was able to find the best solution?  \n",
    "</div> "
   ]
  },
  {
   "cell_type": "code",
   "execution_count": 175,
   "metadata": {},
   "outputs": [
    {
     "name": "stdout",
     "output_type": "stream",
     "text": [
      "The best cost is 2\n",
      "The best housing assignment is:\n",
      "    Daniel       Hill      ('Carriage', 'Hill')\n",
      "    Steven   Dolliver      ('Dolliver', 'MODs')\n",
      "    Akarsh     Crosby    ('Crosby', 'Dolliver')\n",
      "    Kelvin   Dolliver      ('Dolliver', 'MODs')\n",
      "     Betty     Crosby    ('Crosby', 'Carriage')\n",
      "      Jeff       MODs          ('Hill', 'MODs')\n",
      "       Cat       MODs        ('MODs', 'Crosby')\n",
      "   Michael   Carriage      ('Carriage', 'Hill')\n",
      "      Gary   Carriage      ('Carriage', 'Hill')\n",
      "     James       Hill        ('Hill', 'Crosby')\n"
     ]
    }
   ],
   "source": [
    "from itertools import product \n",
    "\n",
    "ls = []\n",
    "sol = []\n",
    "cost = 30\n",
    "for i in product(range(10),range(9),range(8),range(7),range(6),range(5),range(4),range(3),range(2),range(1)):\n",
    "    ls = list(i)\n",
    "    if dorm_cost(ls) < cost:\n",
    "        cost = dorm_cost(ls)\n",
    "        sol = ls\n",
    "\n",
    "print(\"The best cost is\", cost)\n",
    "print(\"The best housing assignment is:\")\n",
    "print_solution(sol)"
   ]
  },
  {
   "cell_type": "markdown",
   "metadata": {},
   "source": [
    "The lowest cost for dorm assignment is 2, which is the best solution possible. However, no algorithms are able to find the best solution, the best one so far is 3, attained by generic algorithm."
   ]
  },
  {
   "cell_type": "markdown",
   "metadata": {},
   "source": [
    "Examples are adopted from the book ''Programming Collective Intelligence'', by Toby Segaran, 2007."
   ]
  }
 ],
 "metadata": {
  "kernelspec": {
   "display_name": "Python 3",
   "language": "python",
   "name": "python3"
  },
  "language_info": {
   "codemirror_mode": {
    "name": "ipython",
    "version": 3
   },
   "file_extension": ".py",
   "mimetype": "text/x-python",
   "name": "python",
   "nbconvert_exporter": "python",
   "pygments_lexer": "ipython3",
   "version": "3.8.3"
  }
 },
 "nbformat": 4,
 "nbformat_minor": 4
}
